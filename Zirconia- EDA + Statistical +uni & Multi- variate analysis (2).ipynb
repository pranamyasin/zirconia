{
 "cells": [
  {
   "cell_type": "code",
   "execution_count": 1,
   "id": "3bf15cec",
   "metadata": {},
   "outputs": [],
   "source": [
    "import pandas as pd\n",
    "import seaborn as sns\n",
    "import matplotlib.pyplot as plt\n",
    "import scipy.stats\n",
    "from scipy.stats import chi2"
   ]
  },
  {
   "cell_type": "code",
   "execution_count": 2,
   "id": "a85424fd",
   "metadata": {},
   "outputs": [],
   "source": [
    "df= pd.read_csv(r\"C:\\Users\\Pranamya Sinha\\Downloads\\datas\\cubic_zirconia.csv\")"
   ]
  },
  {
   "cell_type": "code",
   "execution_count": 3,
   "id": "1bb82ae9",
   "metadata": {},
   "outputs": [
    {
     "data": {
      "text/plain": [
       "Unnamed: 0    26967\n",
       "carat           257\n",
       "cut               5\n",
       "color             7\n",
       "clarity           8\n",
       "depth           169\n",
       "table           112\n",
       "x               531\n",
       "y               526\n",
       "z               356\n",
       "price          8742\n",
       "dtype: int64"
      ]
     },
     "execution_count": 3,
     "metadata": {},
     "output_type": "execute_result"
    }
   ],
   "source": [
    "df.nunique()"
   ]
  },
  {
   "cell_type": "code",
   "execution_count": 4,
   "id": "9a18eb47",
   "metadata": {},
   "outputs": [
    {
     "data": {
      "text/html": [
       "<div>\n",
       "<style scoped>\n",
       "    .dataframe tbody tr th:only-of-type {\n",
       "        vertical-align: middle;\n",
       "    }\n",
       "\n",
       "    .dataframe tbody tr th {\n",
       "        vertical-align: top;\n",
       "    }\n",
       "\n",
       "    .dataframe thead th {\n",
       "        text-align: right;\n",
       "    }\n",
       "</style>\n",
       "<table border=\"1\" class=\"dataframe\">\n",
       "  <thead>\n",
       "    <tr style=\"text-align: right;\">\n",
       "      <th></th>\n",
       "      <th>carat</th>\n",
       "      <th>cut</th>\n",
       "      <th>color</th>\n",
       "      <th>clarity</th>\n",
       "      <th>depth</th>\n",
       "      <th>table</th>\n",
       "      <th>x</th>\n",
       "      <th>y</th>\n",
       "      <th>z</th>\n",
       "      <th>price</th>\n",
       "    </tr>\n",
       "  </thead>\n",
       "  <tbody>\n",
       "    <tr>\n",
       "      <th>0</th>\n",
       "      <td>0.30</td>\n",
       "      <td>Ideal</td>\n",
       "      <td>E</td>\n",
       "      <td>SI1</td>\n",
       "      <td>62.1</td>\n",
       "      <td>58.0</td>\n",
       "      <td>4.27</td>\n",
       "      <td>4.29</td>\n",
       "      <td>2.66</td>\n",
       "      <td>499</td>\n",
       "    </tr>\n",
       "    <tr>\n",
       "      <th>1</th>\n",
       "      <td>0.33</td>\n",
       "      <td>Premium</td>\n",
       "      <td>G</td>\n",
       "      <td>IF</td>\n",
       "      <td>60.8</td>\n",
       "      <td>58.0</td>\n",
       "      <td>4.42</td>\n",
       "      <td>4.46</td>\n",
       "      <td>2.70</td>\n",
       "      <td>984</td>\n",
       "    </tr>\n",
       "    <tr>\n",
       "      <th>2</th>\n",
       "      <td>0.90</td>\n",
       "      <td>Very Good</td>\n",
       "      <td>E</td>\n",
       "      <td>VVS2</td>\n",
       "      <td>62.2</td>\n",
       "      <td>60.0</td>\n",
       "      <td>6.04</td>\n",
       "      <td>6.12</td>\n",
       "      <td>3.78</td>\n",
       "      <td>6289</td>\n",
       "    </tr>\n",
       "    <tr>\n",
       "      <th>3</th>\n",
       "      <td>0.42</td>\n",
       "      <td>Ideal</td>\n",
       "      <td>F</td>\n",
       "      <td>VS1</td>\n",
       "      <td>61.6</td>\n",
       "      <td>56.0</td>\n",
       "      <td>4.82</td>\n",
       "      <td>4.80</td>\n",
       "      <td>2.96</td>\n",
       "      <td>1082</td>\n",
       "    </tr>\n",
       "    <tr>\n",
       "      <th>4</th>\n",
       "      <td>0.31</td>\n",
       "      <td>Ideal</td>\n",
       "      <td>F</td>\n",
       "      <td>VVS1</td>\n",
       "      <td>60.4</td>\n",
       "      <td>59.0</td>\n",
       "      <td>4.35</td>\n",
       "      <td>4.43</td>\n",
       "      <td>2.65</td>\n",
       "      <td>779</td>\n",
       "    </tr>\n",
       "    <tr>\n",
       "      <th>...</th>\n",
       "      <td>...</td>\n",
       "      <td>...</td>\n",
       "      <td>...</td>\n",
       "      <td>...</td>\n",
       "      <td>...</td>\n",
       "      <td>...</td>\n",
       "      <td>...</td>\n",
       "      <td>...</td>\n",
       "      <td>...</td>\n",
       "      <td>...</td>\n",
       "    </tr>\n",
       "    <tr>\n",
       "      <th>26962</th>\n",
       "      <td>1.11</td>\n",
       "      <td>Premium</td>\n",
       "      <td>G</td>\n",
       "      <td>SI1</td>\n",
       "      <td>62.3</td>\n",
       "      <td>58.0</td>\n",
       "      <td>6.61</td>\n",
       "      <td>6.52</td>\n",
       "      <td>4.09</td>\n",
       "      <td>5408</td>\n",
       "    </tr>\n",
       "    <tr>\n",
       "      <th>26963</th>\n",
       "      <td>0.33</td>\n",
       "      <td>Ideal</td>\n",
       "      <td>H</td>\n",
       "      <td>IF</td>\n",
       "      <td>61.9</td>\n",
       "      <td>55.0</td>\n",
       "      <td>4.44</td>\n",
       "      <td>4.42</td>\n",
       "      <td>2.74</td>\n",
       "      <td>1114</td>\n",
       "    </tr>\n",
       "    <tr>\n",
       "      <th>26964</th>\n",
       "      <td>0.51</td>\n",
       "      <td>Premium</td>\n",
       "      <td>E</td>\n",
       "      <td>VS2</td>\n",
       "      <td>61.7</td>\n",
       "      <td>58.0</td>\n",
       "      <td>5.12</td>\n",
       "      <td>5.15</td>\n",
       "      <td>3.17</td>\n",
       "      <td>1656</td>\n",
       "    </tr>\n",
       "    <tr>\n",
       "      <th>26965</th>\n",
       "      <td>0.27</td>\n",
       "      <td>Very Good</td>\n",
       "      <td>F</td>\n",
       "      <td>VVS2</td>\n",
       "      <td>61.8</td>\n",
       "      <td>56.0</td>\n",
       "      <td>4.19</td>\n",
       "      <td>4.20</td>\n",
       "      <td>2.60</td>\n",
       "      <td>682</td>\n",
       "    </tr>\n",
       "    <tr>\n",
       "      <th>26966</th>\n",
       "      <td>1.25</td>\n",
       "      <td>Premium</td>\n",
       "      <td>J</td>\n",
       "      <td>SI1</td>\n",
       "      <td>62.0</td>\n",
       "      <td>58.0</td>\n",
       "      <td>6.90</td>\n",
       "      <td>6.88</td>\n",
       "      <td>4.27</td>\n",
       "      <td>5166</td>\n",
       "    </tr>\n",
       "  </tbody>\n",
       "</table>\n",
       "<p>26967 rows × 10 columns</p>\n",
       "</div>"
      ],
      "text/plain": [
       "       carat        cut color clarity  depth  table     x     y     z  price\n",
       "0       0.30      Ideal     E     SI1   62.1   58.0  4.27  4.29  2.66    499\n",
       "1       0.33    Premium     G      IF   60.8   58.0  4.42  4.46  2.70    984\n",
       "2       0.90  Very Good     E    VVS2   62.2   60.0  6.04  6.12  3.78   6289\n",
       "3       0.42      Ideal     F     VS1   61.6   56.0  4.82  4.80  2.96   1082\n",
       "4       0.31      Ideal     F    VVS1   60.4   59.0  4.35  4.43  2.65    779\n",
       "...      ...        ...   ...     ...    ...    ...   ...   ...   ...    ...\n",
       "26962   1.11    Premium     G     SI1   62.3   58.0  6.61  6.52  4.09   5408\n",
       "26963   0.33      Ideal     H      IF   61.9   55.0  4.44  4.42  2.74   1114\n",
       "26964   0.51    Premium     E     VS2   61.7   58.0  5.12  5.15  3.17   1656\n",
       "26965   0.27  Very Good     F    VVS2   61.8   56.0  4.19  4.20  2.60    682\n",
       "26966   1.25    Premium     J     SI1   62.0   58.0  6.90  6.88  4.27   5166\n",
       "\n",
       "[26967 rows x 10 columns]"
      ]
     },
     "execution_count": 4,
     "metadata": {},
     "output_type": "execute_result"
    }
   ],
   "source": [
    "df.drop(labels='Unnamed: 0', axis=1)"
   ]
  },
  {
   "cell_type": "code",
   "execution_count": 5,
   "id": "3cb22cdb",
   "metadata": {},
   "outputs": [
    {
     "data": {
      "text/plain": [
       "Unnamed: 0      int64\n",
       "carat         float64\n",
       "cut            object\n",
       "color          object\n",
       "clarity        object\n",
       "depth         float64\n",
       "table         float64\n",
       "x             float64\n",
       "y             float64\n",
       "z             float64\n",
       "price           int64\n",
       "dtype: object"
      ]
     },
     "execution_count": 5,
     "metadata": {},
     "output_type": "execute_result"
    }
   ],
   "source": [
    "df.dtypes"
   ]
  },
  {
   "cell_type": "code",
   "execution_count": 6,
   "id": "964cd171",
   "metadata": {},
   "outputs": [
    {
     "data": {
      "text/html": [
       "<div>\n",
       "<style scoped>\n",
       "    .dataframe tbody tr th:only-of-type {\n",
       "        vertical-align: middle;\n",
       "    }\n",
       "\n",
       "    .dataframe tbody tr th {\n",
       "        vertical-align: top;\n",
       "    }\n",
       "\n",
       "    .dataframe thead th {\n",
       "        text-align: right;\n",
       "    }\n",
       "</style>\n",
       "<table border=\"1\" class=\"dataframe\">\n",
       "  <thead>\n",
       "    <tr style=\"text-align: right;\">\n",
       "      <th></th>\n",
       "      <th>Unnamed: 0</th>\n",
       "      <th>carat</th>\n",
       "      <th>depth</th>\n",
       "      <th>table</th>\n",
       "      <th>x</th>\n",
       "      <th>y</th>\n",
       "      <th>z</th>\n",
       "      <th>price</th>\n",
       "    </tr>\n",
       "  </thead>\n",
       "  <tbody>\n",
       "    <tr>\n",
       "      <th>count</th>\n",
       "      <td>26967.000000</td>\n",
       "      <td>26967.000000</td>\n",
       "      <td>26270.000000</td>\n",
       "      <td>26967.000000</td>\n",
       "      <td>26967.000000</td>\n",
       "      <td>26967.000000</td>\n",
       "      <td>26967.000000</td>\n",
       "      <td>26967.000000</td>\n",
       "    </tr>\n",
       "    <tr>\n",
       "      <th>mean</th>\n",
       "      <td>13484.000000</td>\n",
       "      <td>0.798375</td>\n",
       "      <td>61.745147</td>\n",
       "      <td>57.456080</td>\n",
       "      <td>5.729854</td>\n",
       "      <td>5.733569</td>\n",
       "      <td>3.538057</td>\n",
       "      <td>3939.518115</td>\n",
       "    </tr>\n",
       "    <tr>\n",
       "      <th>std</th>\n",
       "      <td>7784.846691</td>\n",
       "      <td>0.477745</td>\n",
       "      <td>1.412860</td>\n",
       "      <td>2.232068</td>\n",
       "      <td>1.128516</td>\n",
       "      <td>1.166058</td>\n",
       "      <td>0.720624</td>\n",
       "      <td>4024.864666</td>\n",
       "    </tr>\n",
       "    <tr>\n",
       "      <th>min</th>\n",
       "      <td>1.000000</td>\n",
       "      <td>0.200000</td>\n",
       "      <td>50.800000</td>\n",
       "      <td>49.000000</td>\n",
       "      <td>0.000000</td>\n",
       "      <td>0.000000</td>\n",
       "      <td>0.000000</td>\n",
       "      <td>326.000000</td>\n",
       "    </tr>\n",
       "    <tr>\n",
       "      <th>25%</th>\n",
       "      <td>6742.500000</td>\n",
       "      <td>0.400000</td>\n",
       "      <td>61.000000</td>\n",
       "      <td>56.000000</td>\n",
       "      <td>4.710000</td>\n",
       "      <td>4.710000</td>\n",
       "      <td>2.900000</td>\n",
       "      <td>945.000000</td>\n",
       "    </tr>\n",
       "    <tr>\n",
       "      <th>50%</th>\n",
       "      <td>13484.000000</td>\n",
       "      <td>0.700000</td>\n",
       "      <td>61.800000</td>\n",
       "      <td>57.000000</td>\n",
       "      <td>5.690000</td>\n",
       "      <td>5.710000</td>\n",
       "      <td>3.520000</td>\n",
       "      <td>2375.000000</td>\n",
       "    </tr>\n",
       "    <tr>\n",
       "      <th>75%</th>\n",
       "      <td>20225.500000</td>\n",
       "      <td>1.050000</td>\n",
       "      <td>62.500000</td>\n",
       "      <td>59.000000</td>\n",
       "      <td>6.550000</td>\n",
       "      <td>6.540000</td>\n",
       "      <td>4.040000</td>\n",
       "      <td>5360.000000</td>\n",
       "    </tr>\n",
       "    <tr>\n",
       "      <th>max</th>\n",
       "      <td>26967.000000</td>\n",
       "      <td>4.500000</td>\n",
       "      <td>73.600000</td>\n",
       "      <td>79.000000</td>\n",
       "      <td>10.230000</td>\n",
       "      <td>58.900000</td>\n",
       "      <td>31.800000</td>\n",
       "      <td>18818.000000</td>\n",
       "    </tr>\n",
       "  </tbody>\n",
       "</table>\n",
       "</div>"
      ],
      "text/plain": [
       "         Unnamed: 0         carat         depth         table             x  \\\n",
       "count  26967.000000  26967.000000  26270.000000  26967.000000  26967.000000   \n",
       "mean   13484.000000      0.798375     61.745147     57.456080      5.729854   \n",
       "std     7784.846691      0.477745      1.412860      2.232068      1.128516   \n",
       "min        1.000000      0.200000     50.800000     49.000000      0.000000   \n",
       "25%     6742.500000      0.400000     61.000000     56.000000      4.710000   \n",
       "50%    13484.000000      0.700000     61.800000     57.000000      5.690000   \n",
       "75%    20225.500000      1.050000     62.500000     59.000000      6.550000   \n",
       "max    26967.000000      4.500000     73.600000     79.000000     10.230000   \n",
       "\n",
       "                  y             z         price  \n",
       "count  26967.000000  26967.000000  26967.000000  \n",
       "mean       5.733569      3.538057   3939.518115  \n",
       "std        1.166058      0.720624   4024.864666  \n",
       "min        0.000000      0.000000    326.000000  \n",
       "25%        4.710000      2.900000    945.000000  \n",
       "50%        5.710000      3.520000   2375.000000  \n",
       "75%        6.540000      4.040000   5360.000000  \n",
       "max       58.900000     31.800000  18818.000000  "
      ]
     },
     "execution_count": 6,
     "metadata": {},
     "output_type": "execute_result"
    }
   ],
   "source": [
    "df.describe()"
   ]
  },
  {
   "cell_type": "code",
   "execution_count": 7,
   "id": "084bdd7d",
   "metadata": {},
   "outputs": [
    {
     "data": {
      "text/html": [
       "<div>\n",
       "<style scoped>\n",
       "    .dataframe tbody tr th:only-of-type {\n",
       "        vertical-align: middle;\n",
       "    }\n",
       "\n",
       "    .dataframe tbody tr th {\n",
       "        vertical-align: top;\n",
       "    }\n",
       "\n",
       "    .dataframe thead th {\n",
       "        text-align: right;\n",
       "    }\n",
       "</style>\n",
       "<table border=\"1\" class=\"dataframe\">\n",
       "  <thead>\n",
       "    <tr style=\"text-align: right;\">\n",
       "      <th></th>\n",
       "      <th>cut</th>\n",
       "      <th>color</th>\n",
       "      <th>clarity</th>\n",
       "    </tr>\n",
       "  </thead>\n",
       "  <tbody>\n",
       "    <tr>\n",
       "      <th>count</th>\n",
       "      <td>26967</td>\n",
       "      <td>26967</td>\n",
       "      <td>26967</td>\n",
       "    </tr>\n",
       "    <tr>\n",
       "      <th>unique</th>\n",
       "      <td>5</td>\n",
       "      <td>7</td>\n",
       "      <td>8</td>\n",
       "    </tr>\n",
       "    <tr>\n",
       "      <th>top</th>\n",
       "      <td>Ideal</td>\n",
       "      <td>G</td>\n",
       "      <td>SI1</td>\n",
       "    </tr>\n",
       "    <tr>\n",
       "      <th>freq</th>\n",
       "      <td>10816</td>\n",
       "      <td>5661</td>\n",
       "      <td>6571</td>\n",
       "    </tr>\n",
       "  </tbody>\n",
       "</table>\n",
       "</div>"
      ],
      "text/plain": [
       "          cut  color clarity\n",
       "count   26967  26967   26967\n",
       "unique      5      7       8\n",
       "top     Ideal      G     SI1\n",
       "freq    10816   5661    6571"
      ]
     },
     "execution_count": 7,
     "metadata": {},
     "output_type": "execute_result"
    }
   ],
   "source": [
    "df.describe(include='object')"
   ]
  },
  {
   "cell_type": "code",
   "execution_count": 8,
   "id": "3d4fe15a",
   "metadata": {},
   "outputs": [
    {
     "data": {
      "text/plain": [
       "Unnamed: 0      0\n",
       "carat           0\n",
       "cut             0\n",
       "color           0\n",
       "clarity         0\n",
       "depth         697\n",
       "table           0\n",
       "x               0\n",
       "y               0\n",
       "z               0\n",
       "price           0\n",
       "dtype: int64"
      ]
     },
     "execution_count": 8,
     "metadata": {},
     "output_type": "execute_result"
    }
   ],
   "source": [
    "df.isnull().sum()"
   ]
  },
  {
   "cell_type": "markdown",
   "id": "a5c6709c",
   "metadata": {},
   "source": [
    "# Outliers Detection"
   ]
  },
  {
   "cell_type": "code",
   "execution_count": 9,
   "id": "6e20b575",
   "metadata": {},
   "outputs": [
    {
     "name": "stderr",
     "output_type": "stream",
     "text": [
      "C:\\ProgramData\\Anaconda3\\lib\\site-packages\\seaborn\\_decorators.py:36: FutureWarning: Pass the following variable as a keyword arg: x. From version 0.12, the only valid positional argument will be `data`, and passing other arguments without an explicit keyword will result in an error or misinterpretation.\n",
      "  warnings.warn(\n"
     ]
    },
    {
     "data": {
      "text/plain": [
       "<AxesSubplot:xlabel='depth'>"
      ]
     },
     "execution_count": 9,
     "metadata": {},
     "output_type": "execute_result"
    },
    {
     "data": {
      "image/png": "[encoded data removed]",
      "text/plain": [
       "<Figure size 432x288 with 1 Axes>"
      ]
     },
     "metadata": {
      "needs_background": "light"
     },
     "output_type": "display_data"
    }
   ],
   "source": [
    "sns.boxplot(df['depth'])"
   ]
  },
  {
   "cell_type": "code",
   "execution_count": 10,
   "id": "08a22a6f",
   "metadata": {},
   "outputs": [],
   "source": [
    "#By looking at the boxplot we can interpret alot of elements are present as an ouliers in caseof depth.\n",
    "# Inorder to get exact number of elements present as an outlier we are using Inter quartile range"
   ]
  },
  {
   "cell_type": "code",
   "execution_count": 11,
   "id": "62d47e65",
   "metadata": {},
   "outputs": [
    {
     "data": {
      "text/plain": [
       "(61.0, 62.5)"
      ]
     },
     "execution_count": 11,
     "metadata": {},
     "output_type": "execute_result"
    }
   ],
   "source": [
    "Q1= df.depth.quantile(0.25)\n",
    "Q3= df.depth.quantile(0.75)\n",
    "Q1,Q3"
   ]
  },
  {
   "cell_type": "code",
   "execution_count": 12,
   "id": "a65a3474",
   "metadata": {},
   "outputs": [
    {
     "data": {
      "text/plain": [
       "1.5"
      ]
     },
     "execution_count": 12,
     "metadata": {},
     "output_type": "execute_result"
    }
   ],
   "source": [
    "IQR = Q3 - Q1\n",
    "IQR"
   ]
  },
  {
   "cell_type": "code",
   "execution_count": 13,
   "id": "548592c9",
   "metadata": {},
   "outputs": [
    {
     "data": {
      "text/plain": [
       "(58.75, 64.75)"
      ]
     },
     "execution_count": 13,
     "metadata": {},
     "output_type": "execute_result"
    }
   ],
   "source": [
    "# Determining Lower and Upper limit of the Depth\n",
    "ll = Q1-1.5*IQR         \n",
    "ul = Q3+1.5*IQR\n",
    "ll, ul"
   ]
  },
  {
   "cell_type": "code",
   "execution_count": 14,
   "id": "d37fe574",
   "metadata": {},
   "outputs": [
    {
     "data": {
      "text/html": [
       "<div>\n",
       "<style scoped>\n",
       "    .dataframe tbody tr th:only-of-type {\n",
       "        vertical-align: middle;\n",
       "    }\n",
       "\n",
       "    .dataframe tbody tr th {\n",
       "        vertical-align: top;\n",
       "    }\n",
       "\n",
       "    .dataframe thead th {\n",
       "        text-align: right;\n",
       "    }\n",
       "</style>\n",
       "<table border=\"1\" class=\"dataframe\">\n",
       "  <thead>\n",
       "    <tr style=\"text-align: right;\">\n",
       "      <th></th>\n",
       "      <th>Unnamed: 0</th>\n",
       "      <th>carat</th>\n",
       "      <th>cut</th>\n",
       "      <th>color</th>\n",
       "      <th>clarity</th>\n",
       "      <th>depth</th>\n",
       "      <th>table</th>\n",
       "      <th>x</th>\n",
       "      <th>y</th>\n",
       "      <th>z</th>\n",
       "      <th>price</th>\n",
       "    </tr>\n",
       "  </thead>\n",
       "  <tbody>\n",
       "    <tr>\n",
       "      <th>14</th>\n",
       "      <td>15</td>\n",
       "      <td>1.50</td>\n",
       "      <td>Fair</td>\n",
       "      <td>G</td>\n",
       "      <td>VS2</td>\n",
       "      <td>66.2</td>\n",
       "      <td>53.0</td>\n",
       "      <td>7.12</td>\n",
       "      <td>7.08</td>\n",
       "      <td>4.70</td>\n",
       "      <td>10644</td>\n",
       "    </tr>\n",
       "    <tr>\n",
       "      <th>50</th>\n",
       "      <td>51</td>\n",
       "      <td>0.50</td>\n",
       "      <td>Premium</td>\n",
       "      <td>F</td>\n",
       "      <td>SI2</td>\n",
       "      <td>58.0</td>\n",
       "      <td>62.0</td>\n",
       "      <td>5.21</td>\n",
       "      <td>5.18</td>\n",
       "      <td>3.01</td>\n",
       "      <td>1031</td>\n",
       "    </tr>\n",
       "    <tr>\n",
       "      <th>58</th>\n",
       "      <td>59</td>\n",
       "      <td>0.50</td>\n",
       "      <td>Good</td>\n",
       "      <td>E</td>\n",
       "      <td>VS2</td>\n",
       "      <td>64.9</td>\n",
       "      <td>59.0</td>\n",
       "      <td>4.89</td>\n",
       "      <td>4.94</td>\n",
       "      <td>3.19</td>\n",
       "      <td>1389</td>\n",
       "    </tr>\n",
       "    <tr>\n",
       "      <th>73</th>\n",
       "      <td>74</td>\n",
       "      <td>0.70</td>\n",
       "      <td>Premium</td>\n",
       "      <td>E</td>\n",
       "      <td>VS1</td>\n",
       "      <td>58.4</td>\n",
       "      <td>59.0</td>\n",
       "      <td>5.91</td>\n",
       "      <td>5.83</td>\n",
       "      <td>3.43</td>\n",
       "      <td>2854</td>\n",
       "    </tr>\n",
       "    <tr>\n",
       "      <th>100</th>\n",
       "      <td>101</td>\n",
       "      <td>1.02</td>\n",
       "      <td>Fair</td>\n",
       "      <td>J</td>\n",
       "      <td>SI1</td>\n",
       "      <td>66.8</td>\n",
       "      <td>55.0</td>\n",
       "      <td>6.25</td>\n",
       "      <td>6.18</td>\n",
       "      <td>4.15</td>\n",
       "      <td>3027</td>\n",
       "    </tr>\n",
       "    <tr>\n",
       "      <th>...</th>\n",
       "      <td>...</td>\n",
       "      <td>...</td>\n",
       "      <td>...</td>\n",
       "      <td>...</td>\n",
       "      <td>...</td>\n",
       "      <td>...</td>\n",
       "      <td>...</td>\n",
       "      <td>...</td>\n",
       "      <td>...</td>\n",
       "      <td>...</td>\n",
       "      <td>...</td>\n",
       "    </tr>\n",
       "    <tr>\n",
       "      <th>26784</th>\n",
       "      <td>26785</td>\n",
       "      <td>1.01</td>\n",
       "      <td>Fair</td>\n",
       "      <td>G</td>\n",
       "      <td>SI2</td>\n",
       "      <td>58.7</td>\n",
       "      <td>67.0</td>\n",
       "      <td>6.52</td>\n",
       "      <td>6.56</td>\n",
       "      <td>3.84</td>\n",
       "      <td>3816</td>\n",
       "    </tr>\n",
       "    <tr>\n",
       "      <th>26806</th>\n",
       "      <td>26807</td>\n",
       "      <td>0.67</td>\n",
       "      <td>Fair</td>\n",
       "      <td>F</td>\n",
       "      <td>SI1</td>\n",
       "      <td>56.0</td>\n",
       "      <td>67.0</td>\n",
       "      <td>5.81</td>\n",
       "      <td>5.78</td>\n",
       "      <td>3.25</td>\n",
       "      <td>1642</td>\n",
       "    </tr>\n",
       "    <tr>\n",
       "      <th>26842</th>\n",
       "      <td>26843</td>\n",
       "      <td>0.63</td>\n",
       "      <td>Fair</td>\n",
       "      <td>H</td>\n",
       "      <td>VS1</td>\n",
       "      <td>57.3</td>\n",
       "      <td>62.5</td>\n",
       "      <td>5.65</td>\n",
       "      <td>5.70</td>\n",
       "      <td>3.25</td>\n",
       "      <td>1760</td>\n",
       "    </tr>\n",
       "    <tr>\n",
       "      <th>26925</th>\n",
       "      <td>26926</td>\n",
       "      <td>0.90</td>\n",
       "      <td>Fair</td>\n",
       "      <td>F</td>\n",
       "      <td>VS1</td>\n",
       "      <td>66.2</td>\n",
       "      <td>55.0</td>\n",
       "      <td>6.11</td>\n",
       "      <td>5.97</td>\n",
       "      <td>4.00</td>\n",
       "      <td>4183</td>\n",
       "    </tr>\n",
       "    <tr>\n",
       "      <th>26952</th>\n",
       "      <td>26953</td>\n",
       "      <td>0.31</td>\n",
       "      <td>Premium</td>\n",
       "      <td>E</td>\n",
       "      <td>SI1</td>\n",
       "      <td>58.3</td>\n",
       "      <td>60.0</td>\n",
       "      <td>4.51</td>\n",
       "      <td>4.48</td>\n",
       "      <td>2.62</td>\n",
       "      <td>698</td>\n",
       "    </tr>\n",
       "  </tbody>\n",
       "</table>\n",
       "<p>1225 rows × 11 columns</p>\n",
       "</div>"
      ],
      "text/plain": [
       "       Unnamed: 0  carat      cut color clarity  depth  table     x     y  \\\n",
       "14             15   1.50     Fair     G     VS2   66.2   53.0  7.12  7.08   \n",
       "50             51   0.50  Premium     F     SI2   58.0   62.0  5.21  5.18   \n",
       "58             59   0.50     Good     E     VS2   64.9   59.0  4.89  4.94   \n",
       "73             74   0.70  Premium     E     VS1   58.4   59.0  5.91  5.83   \n",
       "100           101   1.02     Fair     J     SI1   66.8   55.0  6.25  6.18   \n",
       "...           ...    ...      ...   ...     ...    ...    ...   ...   ...   \n",
       "26784       26785   1.01     Fair     G     SI2   58.7   67.0  6.52  6.56   \n",
       "26806       26807   0.67     Fair     F     SI1   56.0   67.0  5.81  5.78   \n",
       "26842       26843   0.63     Fair     H     VS1   57.3   62.5  5.65  5.70   \n",
       "26925       26926   0.90     Fair     F     VS1   66.2   55.0  6.11  5.97   \n",
       "26952       26953   0.31  Premium     E     SI1   58.3   60.0  4.51  4.48   \n",
       "\n",
       "          z  price  \n",
       "14     4.70  10644  \n",
       "50     3.01   1031  \n",
       "58     3.19   1389  \n",
       "73     3.43   2854  \n",
       "100    4.15   3027  \n",
       "...     ...    ...  \n",
       "26784  3.84   3816  \n",
       "26806  3.25   1642  \n",
       "26842  3.25   1760  \n",
       "26925  4.00   4183  \n",
       "26952  2.62    698  \n",
       "\n",
       "[1225 rows x 11 columns]"
      ]
     },
     "execution_count": 14,
     "metadata": {},
     "output_type": "execute_result"
    }
   ],
   "source": [
    "df[(df.depth<ll) | (df.depth>ul)]"
   ]
  },
  {
   "cell_type": "code",
   "execution_count": 15,
   "id": "b0f15645",
   "metadata": {},
   "outputs": [],
   "source": [
    "#Total 1225 elements are prsent as an oulier outof 26967 (for depth)"
   ]
  },
  {
   "cell_type": "markdown",
   "id": "adfddcef",
   "metadata": {},
   "source": [
    "### Handling Null Values "
   ]
  },
  {
   "cell_type": "code",
   "execution_count": 16,
   "id": "27ae9633",
   "metadata": {},
   "outputs": [],
   "source": [
    "#Null value is only present in case of depth of the elements "
   ]
  },
  {
   "cell_type": "code",
   "execution_count": 17,
   "id": "a37af337",
   "metadata": {},
   "outputs": [],
   "source": [
    "df['depth'] = df['depth'].fillna(df['depth'].median(),axis=0)"
   ]
  },
  {
   "cell_type": "code",
   "execution_count": 18,
   "id": "9813fa85",
   "metadata": {},
   "outputs": [],
   "source": [
    "# Since depth contains numerical variable and outliers are present , null values are handled by using median"
   ]
  },
  {
   "cell_type": "markdown",
   "id": "92f445c0",
   "metadata": {},
   "source": [
    "# Correlation"
   ]
  },
  {
   "cell_type": "code",
   "execution_count": 19,
   "id": "ff061ce9",
   "metadata": {},
   "outputs": [
    {
     "data": {
      "image/png": "[encoded data removed]",
      "text/plain": [
       "<Figure size 504x504 with 2 Axes>"
      ]
     },
     "metadata": {
      "needs_background": "light"
     },
     "output_type": "display_data"
    },
    {
     "data": {
      "text/html": [
       "<div>\n",
       "<style scoped>\n",
       "    .dataframe tbody tr th:only-of-type {\n",
       "        vertical-align: middle;\n",
       "    }\n",
       "\n",
       "    .dataframe tbody tr th {\n",
       "        vertical-align: top;\n",
       "    }\n",
       "\n",
       "    .dataframe thead th {\n",
       "        text-align: right;\n",
       "    }\n",
       "</style>\n",
       "<table border=\"1\" class=\"dataframe\">\n",
       "  <thead>\n",
       "    <tr style=\"text-align: right;\">\n",
       "      <th></th>\n",
       "      <th>Unnamed: 0</th>\n",
       "      <th>carat</th>\n",
       "      <th>depth</th>\n",
       "      <th>table</th>\n",
       "      <th>x</th>\n",
       "      <th>y</th>\n",
       "      <th>z</th>\n",
       "      <th>price</th>\n",
       "    </tr>\n",
       "  </thead>\n",
       "  <tbody>\n",
       "    <tr>\n",
       "      <th>Unnamed: 0</th>\n",
       "      <td>1.000000</td>\n",
       "      <td>0.003490</td>\n",
       "      <td>-0.001582</td>\n",
       "      <td>0.003817</td>\n",
       "      <td>0.004626</td>\n",
       "      <td>0.006844</td>\n",
       "      <td>0.001681</td>\n",
       "      <td>0.002650</td>\n",
       "    </tr>\n",
       "    <tr>\n",
       "      <th>carat</th>\n",
       "      <td>0.003490</td>\n",
       "      <td>1.000000</td>\n",
       "      <td>0.034895</td>\n",
       "      <td>0.181685</td>\n",
       "      <td>0.976368</td>\n",
       "      <td>0.941071</td>\n",
       "      <td>0.940640</td>\n",
       "      <td>0.922416</td>\n",
       "    </tr>\n",
       "    <tr>\n",
       "      <th>depth</th>\n",
       "      <td>-0.001582</td>\n",
       "      <td>0.034895</td>\n",
       "      <td>1.000000</td>\n",
       "      <td>-0.293958</td>\n",
       "      <td>-0.018431</td>\n",
       "      <td>-0.024399</td>\n",
       "      <td>0.097413</td>\n",
       "      <td>-0.002519</td>\n",
       "    </tr>\n",
       "    <tr>\n",
       "      <th>table</th>\n",
       "      <td>0.003817</td>\n",
       "      <td>0.181685</td>\n",
       "      <td>-0.293958</td>\n",
       "      <td>1.000000</td>\n",
       "      <td>0.196206</td>\n",
       "      <td>0.182346</td>\n",
       "      <td>0.148944</td>\n",
       "      <td>0.126942</td>\n",
       "    </tr>\n",
       "    <tr>\n",
       "      <th>x</th>\n",
       "      <td>0.004626</td>\n",
       "      <td>0.976368</td>\n",
       "      <td>-0.018431</td>\n",
       "      <td>0.196206</td>\n",
       "      <td>1.000000</td>\n",
       "      <td>0.962715</td>\n",
       "      <td>0.956606</td>\n",
       "      <td>0.886247</td>\n",
       "    </tr>\n",
       "    <tr>\n",
       "      <th>y</th>\n",
       "      <td>0.006844</td>\n",
       "      <td>0.941071</td>\n",
       "      <td>-0.024399</td>\n",
       "      <td>0.182346</td>\n",
       "      <td>0.962715</td>\n",
       "      <td>1.000000</td>\n",
       "      <td>0.928923</td>\n",
       "      <td>0.856243</td>\n",
       "    </tr>\n",
       "    <tr>\n",
       "      <th>z</th>\n",
       "      <td>0.001681</td>\n",
       "      <td>0.940640</td>\n",
       "      <td>0.097413</td>\n",
       "      <td>0.148944</td>\n",
       "      <td>0.956606</td>\n",
       "      <td>0.928923</td>\n",
       "      <td>1.000000</td>\n",
       "      <td>0.850536</td>\n",
       "    </tr>\n",
       "    <tr>\n",
       "      <th>price</th>\n",
       "      <td>0.002650</td>\n",
       "      <td>0.922416</td>\n",
       "      <td>-0.002519</td>\n",
       "      <td>0.126942</td>\n",
       "      <td>0.886247</td>\n",
       "      <td>0.856243</td>\n",
       "      <td>0.850536</td>\n",
       "      <td>1.000000</td>\n",
       "    </tr>\n",
       "  </tbody>\n",
       "</table>\n",
       "</div>"
      ],
      "text/plain": [
       "            Unnamed: 0     carat     depth     table         x         y  \\\n",
       "Unnamed: 0    1.000000  0.003490 -0.001582  0.003817  0.004626  0.006844   \n",
       "carat         0.003490  1.000000  0.034895  0.181685  0.976368  0.941071   \n",
       "depth        -0.001582  0.034895  1.000000 -0.293958 -0.018431 -0.024399   \n",
       "table         0.003817  0.181685 -0.293958  1.000000  0.196206  0.182346   \n",
       "x             0.004626  0.976368 -0.018431  0.196206  1.000000  0.962715   \n",
       "y             0.006844  0.941071 -0.024399  0.182346  0.962715  1.000000   \n",
       "z             0.001681  0.940640  0.097413  0.148944  0.956606  0.928923   \n",
       "price         0.002650  0.922416 -0.002519  0.126942  0.886247  0.856243   \n",
       "\n",
       "                   z     price  \n",
       "Unnamed: 0  0.001681  0.002650  \n",
       "carat       0.940640  0.922416  \n",
       "depth       0.097413 -0.002519  \n",
       "table       0.148944  0.126942  \n",
       "x           0.956606  0.886247  \n",
       "y           0.928923  0.856243  \n",
       "z           1.000000  0.850536  \n",
       "price       0.850536  1.000000  "
      ]
     },
     "execution_count": 19,
     "metadata": {},
     "output_type": "execute_result"
    }
   ],
   "source": [
    "plt.figure(figsize=(7,7))                                  # Correlation Matrix plot 1\n",
    "sns.heatmap(df.corr(),annot=True)\n",
    "plt.show()\n",
    "df.corr()"
   ]
  },
  {
   "cell_type": "code",
   "execution_count": 20,
   "id": "8d64d79e",
   "metadata": {},
   "outputs": [
    {
     "data": {
      "text/plain": [
       "<AxesSubplot:>"
      ]
     },
     "execution_count": 20,
     "metadata": {},
     "output_type": "execute_result"
    },
    {
     "data": {
      "image/png": "[encoded data removed]",
      "text/plain": [
       "<Figure size 432x288 with 2 Axes>"
      ]
     },
     "metadata": {
      "needs_background": "light"
     },
     "output_type": "display_data"
    }
   ],
   "source": [
    "columns=['carat','x','y','z','price']                             # Correlation Matrix plot 2\n",
    "corrMatrix = df.loc[:,columns].corr()\n",
    "corrMatrix\n",
    "sns.heatmap(corrMatrix, annot=True)"
   ]
  },
  {
   "cell_type": "code",
   "execution_count": 21,
   "id": "6e4f7993",
   "metadata": {},
   "outputs": [],
   "source": [
    "# High Correlation\n",
    "# By observing corrlation matrix plot 2 we can say:-\n",
    "# 1. Price is highly correlated to carat of zirconia followed by x(lenghth), y(width) and z(height)\n",
    "# 2. Carat is highly correlated to x followed by y and z \n",
    "\n",
    "# Least Correlation\n",
    "# By observing correlation matix plot 1 we can say :-\n",
    "# 1. Least Correlatio is found between table and depth"
   ]
  },
  {
   "cell_type": "markdown",
   "id": "530c503b",
   "metadata": {},
   "source": [
    "### Pearson Correlation - for Categorical (obj type) variable"
   ]
  },
  {
   "cell_type": "markdown",
   "id": "407214bf",
   "metadata": {},
   "source": [
    "###### HO:- There is no significant association between the two categorical variables"
   ]
  },
  {
   "cell_type": "code",
   "execution_count": 22,
   "id": "9805857b",
   "metadata": {},
   "outputs": [
    {
     "name": "stdout",
     "output_type": "stream",
     "text": [
      "contingency table: \n",
      " clarity     I1   IF   SI1   SI2   VS1   VS2  VVS1  VVS2\n",
      "cut                                                    \n",
      "Fair        89    4   193   225    93   129    10    38\n",
      "Good        51   30   765   530   331   491   100   143\n",
      "Ideal       74  613  2150  1324  1784  2528  1036  1307\n",
      "Premium    108  115  1809  1449   998  1697   307   416\n",
      "Very Good   43  132  1654  1047   887  1254   386   627\n"
     ]
    }
   ],
   "source": [
    "chi_sq_table1 = pd.crosstab(df['cut'],df['clarity'])\n",
    "print('contingency table: \\n', chi_sq_table1)"
   ]
  },
  {
   "cell_type": "code",
   "execution_count": 23,
   "id": "02eb78e0",
   "metadata": {},
   "outputs": [
    {
     "name": "stdout",
     "output_type": "stream",
     "text": [
      "chi2 statistic:     1967.8\n",
      "p-value:            0\n",
      "degrees of freedom: 28\n",
      "expected frequencies:\n",
      " [[  10.57088293   25.89142285  190.30485408  132.49805318  118.53869544\n",
      "   176.63510958   53.25987318   73.30110876]\n",
      " [  33.03908481   80.92312827  594.79404457  414.1200356   370.49034005\n",
      "   552.06952942  166.4626766   229.10116068]\n",
      " [ 146.39522379  358.56802759 2635.51511106 1834.95383246 1641.6319205\n",
      "  2446.20402714  737.59127823 1015.14057923]\n",
      " [  93.3783884   228.71309378 1681.06682241 1170.42774502 1047.11710609\n",
      "  1560.31449549  470.47357882  647.50876998]\n",
      " [  81.61642007  199.90432751 1469.31916787 1023.00033374  915.22193792\n",
      "  1363.77683836  411.21259317  565.94838135]]\n"
     ]
    }
   ],
   "source": [
    "chi2_stat, p, dof, expected = scipy.stats.chi2_contingency(chi_sq_table1)\n",
    " \n",
    "print(f\"chi2 statistic:     {chi2_stat:.5g}\")\n",
    "print(f\"p-value:            {p:.5g}\")\n",
    "print(f\"degrees of freedom: {dof}\")\n",
    "print(\"expected frequencies:\\n\",expected)"
   ]
  },
  {
   "cell_type": "code",
   "execution_count": 24,
   "id": "c94e9f66",
   "metadata": {},
   "outputs": [],
   "source": [
    "# Critical value =16.93 with degree of freedom 28 and alpha 0.05\n",
    "# Since test statistics= 1967.8 exceeds critical value, the null hypothesis is rejected"
   ]
  },
  {
   "cell_type": "code",
   "execution_count": 25,
   "id": "96c915f7",
   "metadata": {},
   "outputs": [],
   "source": [
    "#Goodness of fit"
   ]
  },
  {
   "cell_type": "code",
   "execution_count": 26,
   "id": "957b207e",
   "metadata": {},
   "outputs": [
    {
     "name": "stdout",
     "output_type": "stream",
     "text": [
      "contingency_table :\n",
      " clarity     I1   IF   SI1   SI2   VS1   VS2  VVS1  VVS2\n",
      "cut                                                    \n",
      "Fair        89    4   193   225    93   129    10    38\n",
      "Good        51   30   765   530   331   491   100   143\n",
      "Ideal       74  613  2150  1324  1784  2528  1036  1307\n",
      "Premium    108  115  1809  1449   998  1697   307   416\n",
      "Very Good   43  132  1654  1047   887  1254   386   627\n"
     ]
    }
   ],
   "source": [
    "ct_table=pd.crosstab(df[\"cut\"],df[\"clarity\"])\n",
    "print('contingency_table :\\n',ct_table)"
   ]
  },
  {
   "cell_type": "code",
   "execution_count": 27,
   "id": "3b3d4da9",
   "metadata": {},
   "outputs": [
    {
     "name": "stdout",
     "output_type": "stream",
     "text": [
      "Observed Values :\n",
      " [[  89    4  193  225   93  129   10   38]\n",
      " [  51   30  765  530  331  491  100  143]\n",
      " [  74  613 2150 1324 1784 2528 1036 1307]\n",
      " [ 108  115 1809 1449  998 1697  307  416]\n",
      " [  43  132 1654 1047  887 1254  386  627]]\n"
     ]
    }
   ],
   "source": [
    "Observed_Values = ct_table.values \n",
    "print(\"Observed Values :\\n\",Observed_Values)"
   ]
  },
  {
   "cell_type": "code",
   "execution_count": 28,
   "id": "e9bc55dc",
   "metadata": {},
   "outputs": [
    {
     "name": "stdout",
     "output_type": "stream",
     "text": [
      "Expected Values :\n",
      " [[  10.57088293   25.89142285  190.30485408  132.49805318  118.53869544\n",
      "   176.63510958   53.25987318   73.30110876]\n",
      " [  33.03908481   80.92312827  594.79404457  414.1200356   370.49034005\n",
      "   552.06952942  166.4626766   229.10116068]\n",
      " [ 146.39522379  358.56802759 2635.51511106 1834.95383246 1641.6319205\n",
      "  2446.20402714  737.59127823 1015.14057923]\n",
      " [  93.3783884   228.71309378 1681.06682241 1170.42774502 1047.11710609\n",
      "  1560.31449549  470.47357882  647.50876998]\n",
      " [  81.61642007  199.90432751 1469.31916787 1023.00033374  915.22193792\n",
      "  1363.77683836  411.21259317  565.94838135]]\n"
     ]
    }
   ],
   "source": [
    "ev=scipy.stats.chi2_contingency(ct_table)\n",
    "Expected_Values = ev[3]\n",
    "print(\"Expected Values :\\n\",Expected_Values)"
   ]
  },
  {
   "cell_type": "code",
   "execution_count": 29,
   "id": "0fa50e43",
   "metadata": {},
   "outputs": [
    {
     "name": "stdout",
     "output_type": "stream",
     "text": [
      "Degree of Freedom: 4\n"
     ]
    }
   ],
   "source": [
    "no_of_rows=len(ct_table.iloc[0:5,0])\n",
    "no_of_columns=len(ct_table.iloc[0,0:2])\n",
    "data=(no_of_rows-1)*(no_of_columns-1)\n",
    "print(\"Degree of Freedom:\",data)"
   ]
  },
  {
   "cell_type": "code",
   "execution_count": 30,
   "id": "95d37d44",
   "metadata": {},
   "outputs": [
    {
     "name": "stdout",
     "output_type": "stream",
     "text": [
      "chi-square statistic: 958.7150348070272\n"
     ]
    }
   ],
   "source": [
    "chi_square=sum([(o-e)**2./e for o,e in zip(Observed_Values,Expected_Values)])\n",
    "chi_square_statistic=chi_square[0]+chi_square[1]\n",
    "print(\"chi-square statistic:\",chi_square_statistic)"
   ]
  },
  {
   "cell_type": "markdown",
   "id": "a9f064f9",
   "metadata": {},
   "source": [
    "#### The critical value for the chi-square test with a degree of freedom of 2 and alpha 0.05 is 3.357\n",
    "#Since the test statistic (958.71) exceeds the critical value the null hypothesis is rejected.\n",
    "### Therefore, cut and clarity have a significant variation in the distribution. This could be concluded thatthere is a substantial dependency of clarity on cut  according to data"
   ]
  },
  {
   "cell_type": "code",
   "execution_count": 31,
   "id": "0e1038fb",
   "metadata": {},
   "outputs": [
    {
     "name": "stdout",
     "output_type": "stream",
     "text": [
      "contingency table: \n",
      " clarity  I1   IF   SI1  SI2   VS1   VS2  VVS1  VVS2\n",
      "color                                              \n",
      "D        25   38  1040  671   369   804   121   276\n",
      "E        54   87  1249  849   625  1202   342   509\n",
      "F        67  183  1088  753   672  1107   360   499\n",
      "G        68  342  1001  779  1078  1205   507   681\n",
      "H        82  149  1082  796   595   804   288   306\n",
      "I        48   69   725  469   480   603   183   194\n",
      "J        21   26   386  258   274   374    38    66\n"
     ]
    }
   ],
   "source": [
    "chi_sq_table1 = pd.crosstab(df['color'],df['clarity'])\n",
    "print('contingency table: \\n', chi_sq_table1)"
   ]
  },
  {
   "cell_type": "code",
   "execution_count": 32,
   "id": "850730f3",
   "metadata": {},
   "outputs": [
    {
     "name": "stdout",
     "output_type": "stream",
     "text": [
      "chi2 statistic:     954.17\n",
      "p-value:            1.0232e-172\n",
      "degrees of freedom: 42\n",
      "expected frequencies:\n",
      " [[  45.26124523  110.85904995  814.82641747  567.31560797  507.54596359\n",
      "   756.29680721  228.04227389  313.8526347 ]\n",
      " [  66.55189676  163.00656358 1198.11647569  834.17788408  746.29291356\n",
      "  1112.05484481  335.31215931  461.48726221]\n",
      " [  64.00730522  156.77405718 1152.30685653  802.28334631  717.75863092\n",
      "  1069.53576594  322.49160085  443.84243705]\n",
      " [  76.62198242  187.67137613 1379.40560685  960.39882078  859.21581933\n",
      "  1280.3218378   386.04883747  531.31571921]\n",
      " [  55.52082175  135.98798532  999.52690325  695.91166982  622.59376275\n",
      "   927.73011458  279.73367449  384.99506805]\n",
      " [  37.50565506   91.86316609  675.2045463   470.10512849  420.57711277\n",
      "   626.70408277  188.96684837  260.07346016]\n",
      " [  19.53109356   47.83780176  351.6131939   244.80754255  219.01579709\n",
      "   326.35654689   98.40460563  135.43341862]]\n"
     ]
    }
   ],
   "source": [
    "chi2_stat, p, dof, expected = scipy.stats.chi2_contingency(chi_sq_table1)\n",
    " \n",
    "print(f\"chi2 statistic:     {chi2_stat:.5g}\")\n",
    "print(f\"p-value:            {p:.5g}\")\n",
    "print(f\"degrees of freedom: {dof}\")\n",
    "print(\"expected frequencies:\\n\",expected)"
   ]
  },
  {
   "cell_type": "markdown",
   "id": "fd1e0230",
   "metadata": {},
   "source": [
    "###### Critical value = 28.14 with degree of freedom 42 and alpha 0.05\n",
    " Since test statistics= 1967.8 exceeds critical value, the null hypothesis is rejected\n",
    "### Therefore, cut and clarity have a significant variation in the distribution. This could be concluded that there is asubstantial dependency of clarity on color  according to data"
   ]
  },
  {
   "cell_type": "code",
   "execution_count": null,
   "id": "0db31f51",
   "metadata": {},
   "outputs": [],
   "source": []
  },
  {
   "cell_type": "markdown",
   "id": "a9416d41",
   "metadata": {},
   "source": [
    "# EDA"
   ]
  },
  {
   "cell_type": "code",
   "execution_count": 33,
   "id": "982eff0b",
   "metadata": {},
   "outputs": [
    {
     "data": {
      "image/png": "[encoded data removed]",
      "text/plain": [
       "<Figure size 864x432 with 1 Axes>"
      ]
     },
     "metadata": {
      "needs_background": "light"
     },
     "output_type": "display_data"
    }
   ],
   "source": [
    "name= df['cut'].value_counts()\n",
    "plt.figure(figsize=(12,6))\n",
    "ax = sns.barplot(x=list(name.keys()),y=list(name.values),palette='Blues')\n",
    "for container in ax.containers:\n",
    "    ax.bar_label(container)"
   ]
  },
  {
   "cell_type": "code",
   "execution_count": 34,
   "id": "050b6bd4",
   "metadata": {},
   "outputs": [
    {
     "data": {
      "text/plain": [
       "<AxesSubplot:xlabel='cut', ylabel='price'>"
      ]
     },
     "execution_count": 34,
     "metadata": {},
     "output_type": "execute_result"
    },
    {
     "data": {
      "image/png": "[encoded data removed]",
      "text/plain": [
       "<Figure size 432x288 with 1 Axes>"
      ]
     },
     "metadata": {
      "needs_background": "light"
     },
     "output_type": "display_data"
    }
   ],
   "source": [
    "sns.boxplot(y = df['price'], x = df['cut'])"
   ]
  },
  {
   "cell_type": "code",
   "execution_count": 35,
   "id": "92651b1c",
   "metadata": {},
   "outputs": [],
   "source": [
    "#Most indviduals have took the ideal fit cut(quality) followed by premium and very good\n",
    "# Very few individuals has choose good and fair cut (quality)\n",
    "# Most of the Premium quality zirconia has been sold in high price followed by ideal and fair\n",
    "# 50% of the the price of ideal quality zirconia ranges between 1000 to 4900 with outliers being in range of 10000 to 17500\n",
    "# 50% of the the price of premium quality zirconia ranges between 1000 to 6500 with outliers being in range of 13000 to 17500\n",
    "# 50% of the the price of very good quality zirconia ranges between 500 to 6000 with outliers being in range of 12500 to 1700\n",
    "# 50% of the the price of good quality zirconia ranges between 900 to 4900 with outliers being in range of 11000 to 17500\n",
    "# 50% of the the price of fair quality zirconia ranges between 2500 to 5000 with outliers in being in range of 10000 to 17500"
   ]
  },
  {
   "cell_type": "code",
   "execution_count": 36,
   "id": "ffec5cae",
   "metadata": {},
   "outputs": [
    {
     "data": {
      "image/png": "[encoded data removed]",
      "text/plain": [
       "<Figure size 864x432 with 1 Axes>"
      ]
     },
     "metadata": {
      "needs_background": "light"
     },
     "output_type": "display_data"
    }
   ],
   "source": [
    "name= df['color'].value_counts()\n",
    "plt.figure(figsize=(12,6))\n",
    "ax = sns.barplot(x=list(name.keys()),y=list(name.values),palette='Reds')\n",
    "for container in ax.containers:\n",
    "    ax.bar_label(container)"
   ]
  },
  {
   "cell_type": "code",
   "execution_count": 37,
   "id": "1d8147b4",
   "metadata": {},
   "outputs": [
    {
     "data": {
      "text/plain": [
       "<AxesSubplot:xlabel='color', ylabel='price'>"
      ]
     },
     "execution_count": 37,
     "metadata": {},
     "output_type": "execute_result"
    },
    {
     "data": {
      "image/png": "[encoded data removed]",
      "text/plain": [
       "<Figure size 432x288 with 1 Axes>"
      ]
     },
     "metadata": {
      "needs_background": "light"
     },
     "output_type": "display_data"
    }
   ],
   "source": [
    "sns.boxplot(y = df['price'], x = df['color'])"
   ]
  },
  {
   "cell_type": "code",
   "execution_count": 38,
   "id": "4fc4e53a",
   "metadata": {},
   "outputs": [],
   "source": [
    "# Most people have choose the intermediate color of G \n",
    "# Least number of individuals have choose the worst color J \n",
    "#Best color of D is choose by 3344 individuals\n",
    "# 50% of the price of color E ranges in between 1500 to 3500 with most outliers in range of 8500 to 17500\n",
    "# 50% of the price of color G ranges in between 1500 to 6000 with outliers being in range of 13500 to 17500\n",
    "# 50% of the price of color F ranges in between 1500 to 5000 with most outliers in range of 11500 to 17500\n",
    "# 50% of the price of color D ranges in between 1500 to 4000 with outliers being in range of 8500 to 17500\n",
    "# 50% of the price of color H ranges in between 1500 to 6000 with most outliers in range of 13500 to 17500\n",
    "# 50% of the price of color J ranges in between 2500 to 7500 with outliers being in range of 13500 to 15500\n",
    "# 50% of the price of color I ranges in between 1500 to 6500 with most outliers in range of 8500 to 16500\n"
   ]
  },
  {
   "cell_type": "code",
   "execution_count": 39,
   "id": "8febe416",
   "metadata": {},
   "outputs": [
    {
     "data": {
      "image/png": "[encoded data removed]",
      "text/plain": [
       "<Figure size 864x432 with 1 Axes>"
      ]
     },
     "metadata": {
      "needs_background": "light"
     },
     "output_type": "display_data"
    }
   ],
   "source": [
    "name= df['clarity'].value_counts()\n",
    "plt.figure(figsize=(12,6))\n",
    "ax = sns.barplot(x=list(name.keys()),y=list(name.values),palette='Greens')\n",
    "for container in ax.containers:\n",
    "    ax.bar_label(container)"
   ]
  },
  {
   "cell_type": "code",
   "execution_count": 40,
   "id": "4f752765",
   "metadata": {},
   "outputs": [
    {
     "data": {
      "text/plain": [
       "<AxesSubplot:xlabel='clarity', ylabel='price'>"
      ]
     },
     "execution_count": 40,
     "metadata": {},
     "output_type": "execute_result"
    },
    {
     "data": {
      "image/png": "[encoded data removed]",
      "text/plain": [
       "<Figure size 432x288 with 1 Axes>"
      ]
     },
     "metadata": {
      "needs_background": "light"
     },
     "output_type": "display_data"
    }
   ],
   "source": [
    "sns.boxplot(y = df['price'], x = df['clarity'])"
   ]
  },
  {
   "cell_type": "code",
   "execution_count": 41,
   "id": "de5d868d",
   "metadata": {},
   "outputs": [],
   "source": [
    "# Most individuals has choose clarity of Sl1 and VS2 \n",
    "# None of the individuals has choose (flawless) Fl and and VS2\n",
    "# 50% of the price of SI1 clarity ranges in between 1000 to 5000 with outliers being in range of 11500 to 17500\n",
    "# 50% of the price of IF clarity ranges in between 1000 to 2500 with outliers being in range of 5000 to 17500\n",
    "# 50% of the price of VVS2 clarity ranges in between 1000 to 3500 with outliers being in range of 11500 to 17500\n",
    "# 50% of the price of VS1 clarity ranges in between 1000 to 6000 with outliers being in range of 7500 to 17500\n",
    "# 50% of the price of VVS1 clarity ranges in between 1000 to 1500 with outliers being in range of 13500 to 17500\n",
    "# 50% of the price of VS2 clarity ranges in between 1000 to 6000 with outliers being in range of 4000 to 17500\n",
    "# 50% of the price of SI2 clarity ranges in between 1000 to 5500 with outliers being in range of 11000 to 17500\n",
    "# 50% of the price of I1clarity ranges in between 1000 to 5000 with outliers being in range of 10000to 17500"
   ]
  },
  {
   "cell_type": "markdown",
   "id": "8a8667d3",
   "metadata": {},
   "source": [
    "### Univariate Analysis"
   ]
  },
  {
   "cell_type": "code",
   "execution_count": 42,
   "id": "eb0cf74c",
   "metadata": {},
   "outputs": [
    {
     "name": "stderr",
     "output_type": "stream",
     "text": [
      "C:\\ProgramData\\Anaconda3\\lib\\site-packages\\seaborn\\axisgrid.py:2076: UserWarning: The `size` parameter has been renamed to `height`; please update your code.\n",
      "  warnings.warn(msg, UserWarning)\n"
     ]
    },
    {
     "data": {
      "text/plain": [
       "<seaborn.axisgrid.PairGrid at 0x10e46683820>"
      ]
     },
     "execution_count": 42,
     "metadata": {},
     "output_type": "execute_result"
    },
    {
     "data": {
      "image/png": "[encoded data removed]",
      "text/plain": [
       "<Figure size 1440x360 with 4 Axes>"
      ]
     },
     "metadata": {
      "needs_background": "light"
     },
     "output_type": "display_data"
    }
   ],
   "source": [
    "sns.pairplot(df, x_vars = ['carat','x','y','z'], y_vars = 'price', size = 5, kind = 'scatter')"
   ]
  },
  {
   "cell_type": "code",
   "execution_count": 43,
   "id": "9d1ee8cc",
   "metadata": {},
   "outputs": [],
   "source": [
    "# Price of zirconia is directly correlated to carat anf partially to length(x)"
   ]
  },
  {
   "cell_type": "markdown",
   "id": "39dc174e",
   "metadata": {},
   "source": [
    "### Multivariate Analysis"
   ]
  },
  {
   "cell_type": "code",
   "execution_count": null,
   "id": "1c1201e0",
   "metadata": {},
   "outputs": [
    {
     "name": "stderr",
     "output_type": "stream",
     "text": [
      "C:\\ProgramData\\Anaconda3\\lib\\site-packages\\seaborn\\axisgrid.py:2076: UserWarning: The `size` parameter has been renamed to `height`; please update your code.\n",
      "  warnings.warn(msg, UserWarning)\n"
     ]
    }
   ],
   "source": [
    "sns.pairplot(df,hue='cut',size=3)"
   ]
  },
  {
   "cell_type": "code",
   "execution_count": null,
   "id": "590cc1fc",
   "metadata": {},
   "outputs": [],
   "source": [
    "sns.pairplot(df,hue='color',size=3)"
   ]
  },
  {
   "cell_type": "code",
   "execution_count": null,
   "id": "5b4884cb",
   "metadata": {},
   "outputs": [],
   "source": [
    "sns.pairplot(df,hue='clarity',size=3)"
   ]
  },
  {
   "cell_type": "markdown",
   "id": "0dc36f98",
   "metadata": {},
   "source": [
    "## Interpretations"
   ]
  },
  {
   "cell_type": "markdown",
   "id": "100f1868",
   "metadata": {},
   "source": [
    "###### High Correlation\n",
    "By observing corrlation matrix plot 2 we can say:-\n",
    "1. Price is highly correlated to carat of zirconia followed by x(lenghth), y(width) and z(height)\n",
    "2. Carat is highly correlated to x followed by y and z "
   ]
  },
  {
   "cell_type": "markdown",
   "id": "cb769aec",
   "metadata": {},
   "source": [
    "##### Least Correlation\n",
    "By observing correlation matix plot 1 we can say :-\n",
    "1. Least Correlatio is found between table and depth"
   ]
  },
  {
   "cell_type": "markdown",
   "id": "ffb0dae1",
   "metadata": {},
   "source": [
    "##### Using Chi sq test\n",
    "We know all the categorical variables cut(quality), clarity, and color are correlated"
   ]
  },
  {
   "cell_type": "markdown",
   "id": "757eddfa",
   "metadata": {},
   "source": [
    "##### Using EDA (Cut)\n",
    "- Most indviduals have took the ideal fit cut(quality) followed by premium and very good\n",
    "- Very few individuals has choose good and fair cut (quality)\n",
    "- Most of the Premium quality zirconia has been sold in high price followed by ideal and fair\n",
    "\n",
    "#50% of the the price of ideal quality zirconia ranges between 1000 to 4900 with outliers being in range of 10000 to 17500\n",
    "\n",
    "#50% of the the price of premium quality zirconia ranges between 1000 to 6500 with outliers being in range of 13000 to 17500\n",
    "\n",
    "#50% of the the price of very good quality zirconia ranges between 500 to 6000 with outliers being in range of 12500 to 1700\n",
    "\n",
    "#50% of the the price of good quality zirconia ranges between 900 to 4900 with outliers being in range of 11000 to 17500\n",
    "\n",
    "#50% of the the price of fair quality zirconia ranges between 2500 to 5000 with outliers in being in range of 10000 to 17500"
   ]
  },
  {
   "cell_type": "markdown",
   "id": "c049655a",
   "metadata": {},
   "source": [
    "##### Using EDA(color)\n",
    "- Most people have choose the intermediate color of G \n",
    "- Least number of individuals have choose the worst color J \n",
    "- Best color of D is choose by 3344 individuals\n",
    "\n",
    "#50% of the price of color E ranges in between 1500 to 3500 with most outliers in range of 8500 to 17500\n",
    "\n",
    "#50% of the price of color G ranges in between 1500 to 6000 with outliers being in range of 13500 to 17500\n",
    "\n",
    "#50% of the price of color F ranges in between 1500 to 5000 with most outliers in range of 11500 to 17500\n",
    "\n",
    "#50% of the price of color D ranges in between 1500 to 4000 with outliers being in range of 8500 to 17500\n",
    "\n",
    "#50% of the price of color H ranges in between 1500 to 6000 with most outliers in range of 13500 to 17500\n",
    "\n",
    "#50% of the price of color J ranges in between 2500 to 7500 with outliers being in range of 13500 to 15500\n",
    "\n",
    "#50% of the price of color I ranges in between 1500 to 6500 with most outliers in range of 8500 to 16500"
   ]
  },
  {
   "cell_type": "markdown",
   "id": "acaa049e",
   "metadata": {},
   "source": [
    "##### Using EDA (clarity)\n",
    "- Most individuals has choose clarity of Sl1 and VS2 \n",
    "- None of the individuals has choose (flawless) Fl and and VS2\n",
    "\n",
    "#50% of the price of SI1 clarity ranges in between 1000 to 5000 with outliers being in range of 11500 to 17500\n",
    "\n",
    "#50% of the price of IF clarity ranges in between 1000 to 2500 with outliers being in range of 5000 to 17500\n",
    "\n",
    "#50% of the price of VVS2 clarity ranges in between 1000 to 3500 with outliers being in range of 11500 to 17500\n",
    "\n",
    "#50% of the price of VS1 clarity ranges in between 1000 to 6000 with outliers being in range of 7500 to 17500\n",
    "\n",
    "#50% of the price of VVS1 clarity ranges in between 1000 to 1500 with outliers being in range of 13500 to 17500\n",
    "\n",
    "#50% of the price of VS2 clarity ranges in between 1000 to 6000 with outliers being in range of 4000 to 17500\n",
    "\n",
    "#50% of the price of SI2 clarity ranges in between 1000 to 5500 with outliers being in range of 11000 to 17500\n",
    "\n",
    "#50% of the price of I1clarity ranges in between 1000 to 5000 with outliers being in range of 10000to 17500"
   ]
  },
  {
   "cell_type": "code",
   "execution_count": null,
   "id": "fd4ac580",
   "metadata": {},
   "outputs": [],
   "source": []
  }
 ],
 "metadata": {
  "kernelspec": {
   "display_name": "Python 3 (ipykernel)",
   "language": "python",
   "name": "python3"
  },
  "language_info": {
   "codemirror_mode": {
    "name": "ipython",
    "version": 3
   },
   "file_extension": ".py",
   "mimetype": "text/x-python",
   "name": "python",
   "nbconvert_exporter": "python",
   "pygments_lexer": "ipython3",
   "version": "3.9.12"
  }
 },
 "nbformat": 4,
 "nbformat_minor": 5
}
